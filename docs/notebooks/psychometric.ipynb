{
 "cells": [
  {
   "cell_type": "code",
   "execution_count": 23,
   "metadata": {},
   "outputs": [],
   "source": [
    "import searchnets.data\n",
    "import searchnets.test"
   ]
  },
  {
   "cell_type": "code",
   "execution_count": 4,
   "metadata": {},
   "outputs": [
    {
     "data": {
      "text/plain": [
       "['/home/bart/Documents/repos/L2M/visual-search-nets/data/experiment_1/configs/searchnets_feature_search_alexnet.ini']"
      ]
     },
     "execution_count": 4,
     "metadata": {},
     "output_type": "execute_result"
    }
   ],
   "source": [
    "from configparser import ConfigParser\n",
    "configfile = '/home/bart/Documents/repos/L2M/visual-search-nets/data/experiment_1/configs/searchnets_feature_search_alexnet.ini'\n",
    "\n",
    "config = ConfigParser()\n",
    "config.read(configfile)"
   ]
  },
  {
   "cell_type": "markdown",
   "metadata": {},
   "source": [
    "Make new datasets with differing discriminability of target and distractors"
   ]
  },
  {
   "cell_type": "code",
   "execution_count": 21,
   "metadata": {},
   "outputs": [
    {
     "name": "stdout",
     "output_type": "stream",
     "text": [
      "loading images for training set\n",
      "loading images for validation set\n",
      "loading images for test set\n",
      "loading images for training set\n",
      "loading images for validation set\n",
      "loading images for test set\n",
      "loading images for training set\n",
      "loading images for validation set\n",
      "loading images for test set\n",
      "loading images for training set\n",
      "loading images for validation set\n",
      "loading images for test set\n"
     ]
    }
   ],
   "source": [
    "for num in [51, 102, 153, 204]:\n",
    "    config['DATA']['TRAIN_DIR'] = f'../../data/experiment_1/visual_search_stimuli/searchstims_feature_{num}_alexnet'\n",
    "    config['DATA']['GZ_FILENAME'] = f'../../data/experiment_1/data_prepd_for_nets/feature_search_{num}_alexnet_data.gz'\n",
    "    config['DATA']['TRAIN_SIZE'] = '400'\n",
    "    config['DATA']['VALIDATION_SIZE'] = '200'\n",
    "    searchnets.data.data(config)"
   ]
  },
  {
   "cell_type": "markdown",
   "metadata": {},
   "source": [
    "Get accuracy on test set using new datasets"
   ]
  },
  {
   "cell_type": "code",
   "execution_count": 25,
   "metadata": {},
   "outputs": [
    {
     "name": "stdout",
     "output_type": "stream",
     "text": [
      "measuring accuracy on test set for alexnet model trained for 10 epochs\n",
      "Loading model from ../../data/experiment_1/checkpoints/feature_search_alexnet_models/net_number_0\n",
      "INFO:tensorflow:Restoring parameters from ../../data/experiment_1/checkpoints/feature_search_alexnet_models/net_number_0/alexnet-model.ckpt-10\n"
     ]
    },
    {
     "name": "stderr",
     "output_type": "stream",
     "text": [
      "predicting target present/absent for batch 140 of 141: 100%|██████████| 141/141 [00:07<00:00, 19.67it/s]\n"
     ]
    },
    {
     "name": "stdout",
     "output_type": "stream",
     "text": [
      "Loading model from ../../data/experiment_1/checkpoints/feature_search_alexnet_models/net_number_1\n",
      "INFO:tensorflow:Restoring parameters from ../../data/experiment_1/checkpoints/feature_search_alexnet_models/net_number_1/alexnet-model.ckpt-10\n"
     ]
    },
    {
     "name": "stderr",
     "output_type": "stream",
     "text": [
      "predicting target present/absent for batch 140 of 141: 100%|██████████| 141/141 [00:06<00:00, 22.58it/s]\n"
     ]
    },
    {
     "name": "stdout",
     "output_type": "stream",
     "text": [
      "Loading model from ../../data/experiment_1/checkpoints/feature_search_alexnet_models/net_number_2\n",
      "INFO:tensorflow:Restoring parameters from ../../data/experiment_1/checkpoints/feature_search_alexnet_models/net_number_2/alexnet-model.ckpt-10\n"
     ]
    },
    {
     "name": "stderr",
     "output_type": "stream",
     "text": [
      "predicting target present/absent for batch 140 of 141: 100%|██████████| 141/141 [00:06<00:00, 22.95it/s]\n"
     ]
    },
    {
     "name": "stdout",
     "output_type": "stream",
     "text": [
      "Loading model from ../../data/experiment_1/checkpoints/feature_search_alexnet_models/net_number_3\n",
      "INFO:tensorflow:Restoring parameters from ../../data/experiment_1/checkpoints/feature_search_alexnet_models/net_number_3/alexnet-model.ckpt-10\n"
     ]
    },
    {
     "name": "stderr",
     "output_type": "stream",
     "text": [
      "predicting target present/absent for batch 140 of 141: 100%|██████████| 141/141 [00:06<00:00, 22.96it/s]\n"
     ]
    },
    {
     "name": "stdout",
     "output_type": "stream",
     "text": [
      "Loading model from ../../data/experiment_1/checkpoints/feature_search_alexnet_models/net_number_4\n",
      "INFO:tensorflow:Restoring parameters from ../../data/experiment_1/checkpoints/feature_search_alexnet_models/net_number_4/alexnet-model.ckpt-10\n"
     ]
    },
    {
     "name": "stderr",
     "output_type": "stream",
     "text": [
      "predicting target present/absent for batch 140 of 141: 100%|██████████| 141/141 [00:06<00:00, 23.25it/s]\n"
     ]
    },
    {
     "name": "stdout",
     "output_type": "stream",
     "text": [
      "measuring accuracy on test set for alexnet model trained for 50 epochs\n",
      "Loading model from ../../data/experiment_1/checkpoints/feature_search_alexnet_models/net_number_0\n",
      "INFO:tensorflow:Restoring parameters from ../../data/experiment_1/checkpoints/feature_search_alexnet_models/net_number_0/alexnet-model.ckpt-50\n"
     ]
    },
    {
     "name": "stderr",
     "output_type": "stream",
     "text": [
      "predicting target present/absent for batch 140 of 141: 100%|██████████| 141/141 [00:06<00:00, 23.27it/s]\n"
     ]
    },
    {
     "name": "stdout",
     "output_type": "stream",
     "text": [
      "Loading model from ../../data/experiment_1/checkpoints/feature_search_alexnet_models/net_number_1\n",
      "INFO:tensorflow:Restoring parameters from ../../data/experiment_1/checkpoints/feature_search_alexnet_models/net_number_1/alexnet-model.ckpt-50\n"
     ]
    },
    {
     "name": "stderr",
     "output_type": "stream",
     "text": [
      "predicting target present/absent for batch 140 of 141: 100%|██████████| 141/141 [00:06<00:00, 23.35it/s]\n"
     ]
    },
    {
     "name": "stdout",
     "output_type": "stream",
     "text": [
      "Loading model from ../../data/experiment_1/checkpoints/feature_search_alexnet_models/net_number_2\n",
      "INFO:tensorflow:Restoring parameters from ../../data/experiment_1/checkpoints/feature_search_alexnet_models/net_number_2/alexnet-model.ckpt-50\n"
     ]
    },
    {
     "name": "stderr",
     "output_type": "stream",
     "text": [
      "predicting target present/absent for batch 140 of 141: 100%|██████████| 141/141 [00:05<00:00, 23.60it/s]\n"
     ]
    },
    {
     "name": "stdout",
     "output_type": "stream",
     "text": [
      "Loading model from ../../data/experiment_1/checkpoints/feature_search_alexnet_models/net_number_3\n",
      "INFO:tensorflow:Restoring parameters from ../../data/experiment_1/checkpoints/feature_search_alexnet_models/net_number_3/alexnet-model.ckpt-50\n"
     ]
    },
    {
     "name": "stderr",
     "output_type": "stream",
     "text": [
      "predicting target present/absent for batch 140 of 141: 100%|██████████| 141/141 [00:05<00:00, 24.02it/s]\n"
     ]
    },
    {
     "name": "stdout",
     "output_type": "stream",
     "text": [
      "Loading model from ../../data/experiment_1/checkpoints/feature_search_alexnet_models/net_number_4\n",
      "INFO:tensorflow:Restoring parameters from ../../data/experiment_1/checkpoints/feature_search_alexnet_models/net_number_4/alexnet-model.ckpt-50\n"
     ]
    },
    {
     "name": "stderr",
     "output_type": "stream",
     "text": [
      "predicting target present/absent for batch 140 of 141: 100%|██████████| 141/141 [00:06<00:00, 23.36it/s]\n"
     ]
    },
    {
     "name": "stdout",
     "output_type": "stream",
     "text": [
      "measuring accuracy on test set for alexnet model trained for 200 epochs\n",
      "Loading model from ../../data/experiment_1/checkpoints/feature_search_alexnet_models/net_number_0\n",
      "INFO:tensorflow:Restoring parameters from ../../data/experiment_1/checkpoints/feature_search_alexnet_models/net_number_0/alexnet-model.ckpt-200\n"
     ]
    },
    {
     "name": "stderr",
     "output_type": "stream",
     "text": [
      "predicting target present/absent for batch 140 of 141: 100%|██████████| 141/141 [00:06<00:00, 23.09it/s]\n"
     ]
    },
    {
     "name": "stdout",
     "output_type": "stream",
     "text": [
      "Loading model from ../../data/experiment_1/checkpoints/feature_search_alexnet_models/net_number_1\n",
      "INFO:tensorflow:Restoring parameters from ../../data/experiment_1/checkpoints/feature_search_alexnet_models/net_number_1/alexnet-model.ckpt-200\n"
     ]
    },
    {
     "name": "stderr",
     "output_type": "stream",
     "text": [
      "predicting target present/absent for batch 140 of 141: 100%|██████████| 141/141 [00:05<00:00, 23.77it/s]\n"
     ]
    },
    {
     "name": "stdout",
     "output_type": "stream",
     "text": [
      "Loading model from ../../data/experiment_1/checkpoints/feature_search_alexnet_models/net_number_2\n",
      "INFO:tensorflow:Restoring parameters from ../../data/experiment_1/checkpoints/feature_search_alexnet_models/net_number_2/alexnet-model.ckpt-200\n"
     ]
    },
    {
     "name": "stderr",
     "output_type": "stream",
     "text": [
      "predicting target present/absent for batch 140 of 141: 100%|██████████| 141/141 [00:05<00:00, 23.51it/s]\n"
     ]
    },
    {
     "name": "stdout",
     "output_type": "stream",
     "text": [
      "Loading model from ../../data/experiment_1/checkpoints/feature_search_alexnet_models/net_number_3\n",
      "INFO:tensorflow:Restoring parameters from ../../data/experiment_1/checkpoints/feature_search_alexnet_models/net_number_3/alexnet-model.ckpt-200\n"
     ]
    },
    {
     "name": "stderr",
     "output_type": "stream",
     "text": [
      "predicting target present/absent for batch 140 of 141: 100%|██████████| 141/141 [00:06<00:00, 23.44it/s]\n"
     ]
    },
    {
     "name": "stdout",
     "output_type": "stream",
     "text": [
      "Loading model from ../../data/experiment_1/checkpoints/feature_search_alexnet_models/net_number_4\n",
      "INFO:tensorflow:Restoring parameters from ../../data/experiment_1/checkpoints/feature_search_alexnet_models/net_number_4/alexnet-model.ckpt-200\n"
     ]
    },
    {
     "name": "stderr",
     "output_type": "stream",
     "text": [
      "predicting target present/absent for batch 140 of 141: 100%|██████████| 141/141 [00:06<00:00, 23.48it/s]\n"
     ]
    },
    {
     "name": "stdout",
     "output_type": "stream",
     "text": [
      "measuring accuracy on test set for alexnet model trained for 400 epochs\n",
      "Loading model from ../../data/experiment_1/checkpoints/feature_search_alexnet_models/net_number_0\n",
      "INFO:tensorflow:Restoring parameters from ../../data/experiment_1/checkpoints/feature_search_alexnet_models/net_number_0/alexnet-model.ckpt-400\n"
     ]
    },
    {
     "name": "stderr",
     "output_type": "stream",
     "text": [
      "predicting target present/absent for batch 140 of 141: 100%|██████████| 141/141 [00:06<00:00, 23.35it/s]\n"
     ]
    },
    {
     "name": "stdout",
     "output_type": "stream",
     "text": [
      "Loading model from ../../data/experiment_1/checkpoints/feature_search_alexnet_models/net_number_1\n",
      "INFO:tensorflow:Restoring parameters from ../../data/experiment_1/checkpoints/feature_search_alexnet_models/net_number_1/alexnet-model.ckpt-400\n"
     ]
    },
    {
     "name": "stderr",
     "output_type": "stream",
     "text": [
      "predicting target present/absent for batch 140 of 141: 100%|██████████| 141/141 [00:06<00:00, 23.28it/s]\n"
     ]
    },
    {
     "name": "stdout",
     "output_type": "stream",
     "text": [
      "Loading model from ../../data/experiment_1/checkpoints/feature_search_alexnet_models/net_number_2\n",
      "INFO:tensorflow:Restoring parameters from ../../data/experiment_1/checkpoints/feature_search_alexnet_models/net_number_2/alexnet-model.ckpt-400\n"
     ]
    },
    {
     "name": "stderr",
     "output_type": "stream",
     "text": [
      "predicting target present/absent for batch 140 of 141: 100%|██████████| 141/141 [00:06<00:00, 23.09it/s]\n"
     ]
    },
    {
     "name": "stdout",
     "output_type": "stream",
     "text": [
      "Loading model from ../../data/experiment_1/checkpoints/feature_search_alexnet_models/net_number_3\n",
      "INFO:tensorflow:Restoring parameters from ../../data/experiment_1/checkpoints/feature_search_alexnet_models/net_number_3/alexnet-model.ckpt-400\n"
     ]
    },
    {
     "name": "stderr",
     "output_type": "stream",
     "text": [
      "predicting target present/absent for batch 140 of 141: 100%|██████████| 141/141 [00:06<00:00, 22.79it/s]\n"
     ]
    },
    {
     "name": "stdout",
     "output_type": "stream",
     "text": [
      "Loading model from ../../data/experiment_1/checkpoints/feature_search_alexnet_models/net_number_4\n",
      "INFO:tensorflow:Restoring parameters from ../../data/experiment_1/checkpoints/feature_search_alexnet_models/net_number_4/alexnet-model.ckpt-400\n"
     ]
    },
    {
     "name": "stderr",
     "output_type": "stream",
     "text": [
      "predicting target present/absent for batch 140 of 141: 100%|██████████| 141/141 [00:06<00:00, 23.21it/s]\n"
     ]
    },
    {
     "name": "stdout",
     "output_type": "stream",
     "text": [
      "measuring accuracy on test set for alexnet model trained for 800 epochs\n",
      "Loading model from ../../data/experiment_1/checkpoints/feature_search_alexnet_models/net_number_0\n",
      "INFO:tensorflow:Restoring parameters from ../../data/experiment_1/checkpoints/feature_search_alexnet_models/net_number_0/alexnet-model.ckpt-800\n"
     ]
    },
    {
     "name": "stderr",
     "output_type": "stream",
     "text": [
      "predicting target present/absent for batch 140 of 141: 100%|██████████| 141/141 [00:05<00:00, 23.94it/s]\n"
     ]
    },
    {
     "name": "stdout",
     "output_type": "stream",
     "text": [
      "Loading model from ../../data/experiment_1/checkpoints/feature_search_alexnet_models/net_number_1\n",
      "INFO:tensorflow:Restoring parameters from ../../data/experiment_1/checkpoints/feature_search_alexnet_models/net_number_1/alexnet-model.ckpt-800\n"
     ]
    },
    {
     "name": "stderr",
     "output_type": "stream",
     "text": [
      "predicting target present/absent for batch 140 of 141: 100%|██████████| 141/141 [00:05<00:00, 23.59it/s]\n"
     ]
    },
    {
     "name": "stdout",
     "output_type": "stream",
     "text": [
      "Loading model from ../../data/experiment_1/checkpoints/feature_search_alexnet_models/net_number_2\n",
      "INFO:tensorflow:Restoring parameters from ../../data/experiment_1/checkpoints/feature_search_alexnet_models/net_number_2/alexnet-model.ckpt-800\n"
     ]
    },
    {
     "name": "stderr",
     "output_type": "stream",
     "text": [
      "predicting target present/absent for batch 140 of 141: 100%|██████████| 141/141 [00:04<00:00, 28.83it/s]\n"
     ]
    },
    {
     "name": "stdout",
     "output_type": "stream",
     "text": [
      "Loading model from ../../data/experiment_1/checkpoints/feature_search_alexnet_models/net_number_3\n",
      "INFO:tensorflow:Restoring parameters from ../../data/experiment_1/checkpoints/feature_search_alexnet_models/net_number_3/alexnet-model.ckpt-800\n"
     ]
    },
    {
     "name": "stderr",
     "output_type": "stream",
     "text": [
      "predicting target present/absent for batch 140 of 141: 100%|██████████| 141/141 [00:04<00:00, 28.92it/s]\n"
     ]
    },
    {
     "name": "stdout",
     "output_type": "stream",
     "text": [
      "Loading model from ../../data/experiment_1/checkpoints/feature_search_alexnet_models/net_number_4\n",
      "INFO:tensorflow:Restoring parameters from ../../data/experiment_1/checkpoints/feature_search_alexnet_models/net_number_4/alexnet-model.ckpt-800\n"
     ]
    },
    {
     "name": "stderr",
     "output_type": "stream",
     "text": [
      "predicting target present/absent for batch 140 of 141: 100%|██████████| 141/141 [00:04<00:00, 28.62it/s]\n"
     ]
    },
    {
     "name": "stdout",
     "output_type": "stream",
     "text": [
      "measuring accuracy on test set for alexnet model trained for 10 epochs\n",
      "Loading model from ../../data/experiment_1/checkpoints/feature_search_alexnet_models/net_number_0\n",
      "INFO:tensorflow:Restoring parameters from ../../data/experiment_1/checkpoints/feature_search_alexnet_models/net_number_0/alexnet-model.ckpt-10\n"
     ]
    },
    {
     "name": "stderr",
     "output_type": "stream",
     "text": [
      "predicting target present/absent for batch 140 of 141: 100%|██████████| 141/141 [00:04<00:00, 28.30it/s]\n"
     ]
    },
    {
     "name": "stdout",
     "output_type": "stream",
     "text": [
      "Loading model from ../../data/experiment_1/checkpoints/feature_search_alexnet_models/net_number_1\n",
      "INFO:tensorflow:Restoring parameters from ../../data/experiment_1/checkpoints/feature_search_alexnet_models/net_number_1/alexnet-model.ckpt-10\n"
     ]
    },
    {
     "name": "stderr",
     "output_type": "stream",
     "text": [
      "predicting target present/absent for batch 140 of 141: 100%|██████████| 141/141 [00:04<00:00, 28.70it/s]\n"
     ]
    },
    {
     "name": "stdout",
     "output_type": "stream",
     "text": [
      "Loading model from ../../data/experiment_1/checkpoints/feature_search_alexnet_models/net_number_2\n",
      "INFO:tensorflow:Restoring parameters from ../../data/experiment_1/checkpoints/feature_search_alexnet_models/net_number_2/alexnet-model.ckpt-10\n"
     ]
    },
    {
     "name": "stderr",
     "output_type": "stream",
     "text": [
      "predicting target present/absent for batch 140 of 141: 100%|██████████| 141/141 [00:04<00:00, 28.88it/s]\n"
     ]
    },
    {
     "name": "stdout",
     "output_type": "stream",
     "text": [
      "Loading model from ../../data/experiment_1/checkpoints/feature_search_alexnet_models/net_number_3\n",
      "INFO:tensorflow:Restoring parameters from ../../data/experiment_1/checkpoints/feature_search_alexnet_models/net_number_3/alexnet-model.ckpt-10\n"
     ]
    },
    {
     "name": "stderr",
     "output_type": "stream",
     "text": [
      "predicting target present/absent for batch 140 of 141: 100%|██████████| 141/141 [00:04<00:00, 28.69it/s]\n"
     ]
    },
    {
     "name": "stdout",
     "output_type": "stream",
     "text": [
      "Loading model from ../../data/experiment_1/checkpoints/feature_search_alexnet_models/net_number_4\n",
      "INFO:tensorflow:Restoring parameters from ../../data/experiment_1/checkpoints/feature_search_alexnet_models/net_number_4/alexnet-model.ckpt-10\n"
     ]
    },
    {
     "name": "stderr",
     "output_type": "stream",
     "text": [
      "predicting target present/absent for batch 140 of 141: 100%|██████████| 141/141 [00:04<00:00, 28.47it/s]\n"
     ]
    },
    {
     "name": "stdout",
     "output_type": "stream",
     "text": [
      "measuring accuracy on test set for alexnet model trained for 50 epochs\n",
      "Loading model from ../../data/experiment_1/checkpoints/feature_search_alexnet_models/net_number_0\n",
      "INFO:tensorflow:Restoring parameters from ../../data/experiment_1/checkpoints/feature_search_alexnet_models/net_number_0/alexnet-model.ckpt-50\n"
     ]
    },
    {
     "name": "stderr",
     "output_type": "stream",
     "text": [
      "predicting target present/absent for batch 140 of 141: 100%|██████████| 141/141 [00:04<00:00, 28.74it/s]\n"
     ]
    },
    {
     "name": "stdout",
     "output_type": "stream",
     "text": [
      "Loading model from ../../data/experiment_1/checkpoints/feature_search_alexnet_models/net_number_1\n",
      "INFO:tensorflow:Restoring parameters from ../../data/experiment_1/checkpoints/feature_search_alexnet_models/net_number_1/alexnet-model.ckpt-50\n"
     ]
    },
    {
     "name": "stderr",
     "output_type": "stream",
     "text": [
      "predicting target present/absent for batch 140 of 141: 100%|██████████| 141/141 [00:04<00:00, 28.51it/s]\n"
     ]
    },
    {
     "name": "stdout",
     "output_type": "stream",
     "text": [
      "Loading model from ../../data/experiment_1/checkpoints/feature_search_alexnet_models/net_number_2\n",
      "INFO:tensorflow:Restoring parameters from ../../data/experiment_1/checkpoints/feature_search_alexnet_models/net_number_2/alexnet-model.ckpt-50\n"
     ]
    },
    {
     "name": "stderr",
     "output_type": "stream",
     "text": [
      "predicting target present/absent for batch 140 of 141: 100%|██████████| 141/141 [00:04<00:00, 28.56it/s]\n"
     ]
    },
    {
     "name": "stdout",
     "output_type": "stream",
     "text": [
      "Loading model from ../../data/experiment_1/checkpoints/feature_search_alexnet_models/net_number_3\n",
      "INFO:tensorflow:Restoring parameters from ../../data/experiment_1/checkpoints/feature_search_alexnet_models/net_number_3/alexnet-model.ckpt-50\n"
     ]
    },
    {
     "name": "stderr",
     "output_type": "stream",
     "text": [
      "predicting target present/absent for batch 140 of 141: 100%|██████████| 141/141 [00:04<00:00, 28.47it/s]\n"
     ]
    },
    {
     "name": "stdout",
     "output_type": "stream",
     "text": [
      "Loading model from ../../data/experiment_1/checkpoints/feature_search_alexnet_models/net_number_4\n",
      "INFO:tensorflow:Restoring parameters from ../../data/experiment_1/checkpoints/feature_search_alexnet_models/net_number_4/alexnet-model.ckpt-50\n"
     ]
    },
    {
     "name": "stderr",
     "output_type": "stream",
     "text": [
      "predicting target present/absent for batch 140 of 141: 100%|██████████| 141/141 [00:04<00:00, 28.79it/s]\n"
     ]
    },
    {
     "name": "stdout",
     "output_type": "stream",
     "text": [
      "measuring accuracy on test set for alexnet model trained for 200 epochs\n",
      "Loading model from ../../data/experiment_1/checkpoints/feature_search_alexnet_models/net_number_0\n",
      "INFO:tensorflow:Restoring parameters from ../../data/experiment_1/checkpoints/feature_search_alexnet_models/net_number_0/alexnet-model.ckpt-200\n"
     ]
    },
    {
     "name": "stderr",
     "output_type": "stream",
     "text": [
      "predicting target present/absent for batch 140 of 141: 100%|██████████| 141/141 [00:04<00:00, 28.52it/s]\n"
     ]
    },
    {
     "name": "stdout",
     "output_type": "stream",
     "text": [
      "Loading model from ../../data/experiment_1/checkpoints/feature_search_alexnet_models/net_number_1\n",
      "INFO:tensorflow:Restoring parameters from ../../data/experiment_1/checkpoints/feature_search_alexnet_models/net_number_1/alexnet-model.ckpt-200\n"
     ]
    },
    {
     "name": "stderr",
     "output_type": "stream",
     "text": [
      "predicting target present/absent for batch 140 of 141: 100%|██████████| 141/141 [00:04<00:00, 28.67it/s]\n"
     ]
    },
    {
     "name": "stdout",
     "output_type": "stream",
     "text": [
      "Loading model from ../../data/experiment_1/checkpoints/feature_search_alexnet_models/net_number_2\n",
      "INFO:tensorflow:Restoring parameters from ../../data/experiment_1/checkpoints/feature_search_alexnet_models/net_number_2/alexnet-model.ckpt-200\n"
     ]
    },
    {
     "name": "stderr",
     "output_type": "stream",
     "text": [
      "predicting target present/absent for batch 140 of 141: 100%|██████████| 141/141 [00:04<00:00, 28.81it/s]\n"
     ]
    },
    {
     "name": "stdout",
     "output_type": "stream",
     "text": [
      "Loading model from ../../data/experiment_1/checkpoints/feature_search_alexnet_models/net_number_3\n",
      "INFO:tensorflow:Restoring parameters from ../../data/experiment_1/checkpoints/feature_search_alexnet_models/net_number_3/alexnet-model.ckpt-200\n"
     ]
    },
    {
     "name": "stderr",
     "output_type": "stream",
     "text": [
      "predicting target present/absent for batch 140 of 141: 100%|██████████| 141/141 [00:04<00:00, 29.04it/s]\n"
     ]
    },
    {
     "name": "stdout",
     "output_type": "stream",
     "text": [
      "Loading model from ../../data/experiment_1/checkpoints/feature_search_alexnet_models/net_number_4\n",
      "INFO:tensorflow:Restoring parameters from ../../data/experiment_1/checkpoints/feature_search_alexnet_models/net_number_4/alexnet-model.ckpt-200\n"
     ]
    },
    {
     "name": "stderr",
     "output_type": "stream",
     "text": [
      "predicting target present/absent for batch 140 of 141: 100%|██████████| 141/141 [00:04<00:00, 28.77it/s]\n"
     ]
    },
    {
     "name": "stdout",
     "output_type": "stream",
     "text": [
      "measuring accuracy on test set for alexnet model trained for 400 epochs\n",
      "Loading model from ../../data/experiment_1/checkpoints/feature_search_alexnet_models/net_number_0\n",
      "INFO:tensorflow:Restoring parameters from ../../data/experiment_1/checkpoints/feature_search_alexnet_models/net_number_0/alexnet-model.ckpt-400\n"
     ]
    },
    {
     "name": "stderr",
     "output_type": "stream",
     "text": [
      "predicting target present/absent for batch 140 of 141: 100%|██████████| 141/141 [00:04<00:00, 28.68it/s]\n"
     ]
    },
    {
     "name": "stdout",
     "output_type": "stream",
     "text": [
      "Loading model from ../../data/experiment_1/checkpoints/feature_search_alexnet_models/net_number_1\n",
      "INFO:tensorflow:Restoring parameters from ../../data/experiment_1/checkpoints/feature_search_alexnet_models/net_number_1/alexnet-model.ckpt-400\n"
     ]
    },
    {
     "name": "stderr",
     "output_type": "stream",
     "text": [
      "predicting target present/absent for batch 140 of 141: 100%|██████████| 141/141 [00:04<00:00, 28.54it/s]\n"
     ]
    },
    {
     "name": "stdout",
     "output_type": "stream",
     "text": [
      "Loading model from ../../data/experiment_1/checkpoints/feature_search_alexnet_models/net_number_2\n",
      "INFO:tensorflow:Restoring parameters from ../../data/experiment_1/checkpoints/feature_search_alexnet_models/net_number_2/alexnet-model.ckpt-400\n"
     ]
    },
    {
     "name": "stderr",
     "output_type": "stream",
     "text": [
      "predicting target present/absent for batch 140 of 141: 100%|██████████| 141/141 [00:04<00:00, 28.88it/s]\n"
     ]
    },
    {
     "name": "stdout",
     "output_type": "stream",
     "text": [
      "Loading model from ../../data/experiment_1/checkpoints/feature_search_alexnet_models/net_number_3\n",
      "INFO:tensorflow:Restoring parameters from ../../data/experiment_1/checkpoints/feature_search_alexnet_models/net_number_3/alexnet-model.ckpt-400\n"
     ]
    },
    {
     "name": "stderr",
     "output_type": "stream",
     "text": [
      "predicting target present/absent for batch 140 of 141: 100%|██████████| 141/141 [00:04<00:00, 28.91it/s]\n"
     ]
    },
    {
     "name": "stdout",
     "output_type": "stream",
     "text": [
      "Loading model from ../../data/experiment_1/checkpoints/feature_search_alexnet_models/net_number_4\n",
      "INFO:tensorflow:Restoring parameters from ../../data/experiment_1/checkpoints/feature_search_alexnet_models/net_number_4/alexnet-model.ckpt-400\n"
     ]
    },
    {
     "name": "stderr",
     "output_type": "stream",
     "text": [
      "predicting target present/absent for batch 140 of 141: 100%|██████████| 141/141 [00:04<00:00, 28.88it/s]\n"
     ]
    },
    {
     "name": "stdout",
     "output_type": "stream",
     "text": [
      "measuring accuracy on test set for alexnet model trained for 800 epochs\n",
      "Loading model from ../../data/experiment_1/checkpoints/feature_search_alexnet_models/net_number_0\n",
      "INFO:tensorflow:Restoring parameters from ../../data/experiment_1/checkpoints/feature_search_alexnet_models/net_number_0/alexnet-model.ckpt-800\n"
     ]
    },
    {
     "name": "stderr",
     "output_type": "stream",
     "text": [
      "predicting target present/absent for batch 140 of 141: 100%|██████████| 141/141 [00:04<00:00, 28.52it/s]\n"
     ]
    },
    {
     "name": "stdout",
     "output_type": "stream",
     "text": [
      "Loading model from ../../data/experiment_1/checkpoints/feature_search_alexnet_models/net_number_1\n",
      "INFO:tensorflow:Restoring parameters from ../../data/experiment_1/checkpoints/feature_search_alexnet_models/net_number_1/alexnet-model.ckpt-800\n"
     ]
    },
    {
     "name": "stderr",
     "output_type": "stream",
     "text": [
      "predicting target present/absent for batch 140 of 141: 100%|██████████| 141/141 [00:04<00:00, 28.81it/s]\n"
     ]
    },
    {
     "name": "stdout",
     "output_type": "stream",
     "text": [
      "Loading model from ../../data/experiment_1/checkpoints/feature_search_alexnet_models/net_number_2\n",
      "INFO:tensorflow:Restoring parameters from ../../data/experiment_1/checkpoints/feature_search_alexnet_models/net_number_2/alexnet-model.ckpt-800\n"
     ]
    },
    {
     "name": "stderr",
     "output_type": "stream",
     "text": [
      "predicting target present/absent for batch 140 of 141: 100%|██████████| 141/141 [00:04<00:00, 28.72it/s]\n"
     ]
    },
    {
     "name": "stdout",
     "output_type": "stream",
     "text": [
      "Loading model from ../../data/experiment_1/checkpoints/feature_search_alexnet_models/net_number_3\n",
      "INFO:tensorflow:Restoring parameters from ../../data/experiment_1/checkpoints/feature_search_alexnet_models/net_number_3/alexnet-model.ckpt-800\n"
     ]
    },
    {
     "name": "stderr",
     "output_type": "stream",
     "text": [
      "predicting target present/absent for batch 140 of 141: 100%|██████████| 141/141 [00:04<00:00, 28.73it/s]\n"
     ]
    },
    {
     "name": "stdout",
     "output_type": "stream",
     "text": [
      "Loading model from ../../data/experiment_1/checkpoints/feature_search_alexnet_models/net_number_4\n",
      "INFO:tensorflow:Restoring parameters from ../../data/experiment_1/checkpoints/feature_search_alexnet_models/net_number_4/alexnet-model.ckpt-800\n"
     ]
    },
    {
     "name": "stderr",
     "output_type": "stream",
     "text": [
      "predicting target present/absent for batch 140 of 141: 100%|██████████| 141/141 [00:04<00:00, 28.66it/s]\n"
     ]
    },
    {
     "name": "stdout",
     "output_type": "stream",
     "text": [
      "measuring accuracy on test set for alexnet model trained for 10 epochs\n",
      "Loading model from ../../data/experiment_1/checkpoints/feature_search_alexnet_models/net_number_0\n",
      "INFO:tensorflow:Restoring parameters from ../../data/experiment_1/checkpoints/feature_search_alexnet_models/net_number_0/alexnet-model.ckpt-10\n"
     ]
    },
    {
     "name": "stderr",
     "output_type": "stream",
     "text": [
      "predicting target present/absent for batch 140 of 141: 100%|██████████| 141/141 [00:05<00:00, 23.65it/s]\n"
     ]
    },
    {
     "name": "stdout",
     "output_type": "stream",
     "text": [
      "Loading model from ../../data/experiment_1/checkpoints/feature_search_alexnet_models/net_number_1\n",
      "INFO:tensorflow:Restoring parameters from ../../data/experiment_1/checkpoints/feature_search_alexnet_models/net_number_1/alexnet-model.ckpt-10\n"
     ]
    },
    {
     "name": "stderr",
     "output_type": "stream",
     "text": [
      "predicting target present/absent for batch 140 of 141: 100%|██████████| 141/141 [00:05<00:00, 24.01it/s]\n"
     ]
    },
    {
     "name": "stdout",
     "output_type": "stream",
     "text": [
      "Loading model from ../../data/experiment_1/checkpoints/feature_search_alexnet_models/net_number_2\n",
      "INFO:tensorflow:Restoring parameters from ../../data/experiment_1/checkpoints/feature_search_alexnet_models/net_number_2/alexnet-model.ckpt-10\n"
     ]
    },
    {
     "name": "stderr",
     "output_type": "stream",
     "text": [
      "predicting target present/absent for batch 140 of 141: 100%|██████████| 141/141 [00:05<00:00, 24.14it/s]\n"
     ]
    },
    {
     "name": "stdout",
     "output_type": "stream",
     "text": [
      "Loading model from ../../data/experiment_1/checkpoints/feature_search_alexnet_models/net_number_3\n",
      "INFO:tensorflow:Restoring parameters from ../../data/experiment_1/checkpoints/feature_search_alexnet_models/net_number_3/alexnet-model.ckpt-10\n"
     ]
    },
    {
     "name": "stderr",
     "output_type": "stream",
     "text": [
      "predicting target present/absent for batch 140 of 141: 100%|██████████| 141/141 [00:05<00:00, 24.01it/s]\n"
     ]
    },
    {
     "name": "stdout",
     "output_type": "stream",
     "text": [
      "Loading model from ../../data/experiment_1/checkpoints/feature_search_alexnet_models/net_number_4\n",
      "INFO:tensorflow:Restoring parameters from ../../data/experiment_1/checkpoints/feature_search_alexnet_models/net_number_4/alexnet-model.ckpt-10\n"
     ]
    },
    {
     "name": "stderr",
     "output_type": "stream",
     "text": [
      "predicting target present/absent for batch 140 of 141: 100%|██████████| 141/141 [00:05<00:00, 23.95it/s]\n"
     ]
    },
    {
     "name": "stdout",
     "output_type": "stream",
     "text": [
      "measuring accuracy on test set for alexnet model trained for 50 epochs\n",
      "Loading model from ../../data/experiment_1/checkpoints/feature_search_alexnet_models/net_number_0\n",
      "INFO:tensorflow:Restoring parameters from ../../data/experiment_1/checkpoints/feature_search_alexnet_models/net_number_0/alexnet-model.ckpt-50\n"
     ]
    },
    {
     "name": "stderr",
     "output_type": "stream",
     "text": [
      "predicting target present/absent for batch 140 of 141: 100%|██████████| 141/141 [00:05<00:00, 23.57it/s]\n"
     ]
    },
    {
     "name": "stdout",
     "output_type": "stream",
     "text": [
      "Loading model from ../../data/experiment_1/checkpoints/feature_search_alexnet_models/net_number_1\n",
      "INFO:tensorflow:Restoring parameters from ../../data/experiment_1/checkpoints/feature_search_alexnet_models/net_number_1/alexnet-model.ckpt-50\n"
     ]
    },
    {
     "name": "stderr",
     "output_type": "stream",
     "text": [
      "predicting target present/absent for batch 140 of 141: 100%|██████████| 141/141 [00:05<00:00, 23.92it/s]\n"
     ]
    },
    {
     "name": "stdout",
     "output_type": "stream",
     "text": [
      "Loading model from ../../data/experiment_1/checkpoints/feature_search_alexnet_models/net_number_2\n",
      "INFO:tensorflow:Restoring parameters from ../../data/experiment_1/checkpoints/feature_search_alexnet_models/net_number_2/alexnet-model.ckpt-50\n"
     ]
    },
    {
     "name": "stderr",
     "output_type": "stream",
     "text": [
      "predicting target present/absent for batch 140 of 141: 100%|██████████| 141/141 [00:06<00:00, 23.05it/s]\n"
     ]
    },
    {
     "name": "stdout",
     "output_type": "stream",
     "text": [
      "Loading model from ../../data/experiment_1/checkpoints/feature_search_alexnet_models/net_number_3\n",
      "INFO:tensorflow:Restoring parameters from ../../data/experiment_1/checkpoints/feature_search_alexnet_models/net_number_3/alexnet-model.ckpt-50\n"
     ]
    },
    {
     "name": "stderr",
     "output_type": "stream",
     "text": [
      "predicting target present/absent for batch 140 of 141: 100%|██████████| 141/141 [00:05<00:00, 23.77it/s]\n"
     ]
    },
    {
     "name": "stdout",
     "output_type": "stream",
     "text": [
      "Loading model from ../../data/experiment_1/checkpoints/feature_search_alexnet_models/net_number_4\n",
      "INFO:tensorflow:Restoring parameters from ../../data/experiment_1/checkpoints/feature_search_alexnet_models/net_number_4/alexnet-model.ckpt-50\n"
     ]
    },
    {
     "name": "stderr",
     "output_type": "stream",
     "text": [
      "predicting target present/absent for batch 140 of 141: 100%|██████████| 141/141 [00:06<00:00, 22.98it/s]\n"
     ]
    },
    {
     "name": "stdout",
     "output_type": "stream",
     "text": [
      "measuring accuracy on test set for alexnet model trained for 200 epochs\n",
      "Loading model from ../../data/experiment_1/checkpoints/feature_search_alexnet_models/net_number_0\n",
      "INFO:tensorflow:Restoring parameters from ../../data/experiment_1/checkpoints/feature_search_alexnet_models/net_number_0/alexnet-model.ckpt-200\n"
     ]
    },
    {
     "name": "stderr",
     "output_type": "stream",
     "text": [
      "predicting target present/absent for batch 140 of 141: 100%|██████████| 141/141 [00:05<00:00, 23.65it/s]\n"
     ]
    },
    {
     "name": "stdout",
     "output_type": "stream",
     "text": [
      "Loading model from ../../data/experiment_1/checkpoints/feature_search_alexnet_models/net_number_1\n",
      "INFO:tensorflow:Restoring parameters from ../../data/experiment_1/checkpoints/feature_search_alexnet_models/net_number_1/alexnet-model.ckpt-200\n"
     ]
    },
    {
     "name": "stderr",
     "output_type": "stream",
     "text": [
      "predicting target present/absent for batch 140 of 141: 100%|██████████| 141/141 [00:06<00:00, 22.82it/s]\n"
     ]
    },
    {
     "name": "stdout",
     "output_type": "stream",
     "text": [
      "Loading model from ../../data/experiment_1/checkpoints/feature_search_alexnet_models/net_number_2\n",
      "INFO:tensorflow:Restoring parameters from ../../data/experiment_1/checkpoints/feature_search_alexnet_models/net_number_2/alexnet-model.ckpt-200\n"
     ]
    },
    {
     "name": "stderr",
     "output_type": "stream",
     "text": [
      "predicting target present/absent for batch 140 of 141: 100%|██████████| 141/141 [00:06<00:00, 23.45it/s]\n"
     ]
    },
    {
     "name": "stdout",
     "output_type": "stream",
     "text": [
      "Loading model from ../../data/experiment_1/checkpoints/feature_search_alexnet_models/net_number_3\n",
      "INFO:tensorflow:Restoring parameters from ../../data/experiment_1/checkpoints/feature_search_alexnet_models/net_number_3/alexnet-model.ckpt-200\n"
     ]
    },
    {
     "name": "stderr",
     "output_type": "stream",
     "text": [
      "predicting target present/absent for batch 140 of 141: 100%|██████████| 141/141 [00:06<00:00, 23.03it/s]\n"
     ]
    },
    {
     "name": "stdout",
     "output_type": "stream",
     "text": [
      "Loading model from ../../data/experiment_1/checkpoints/feature_search_alexnet_models/net_number_4\n",
      "INFO:tensorflow:Restoring parameters from ../../data/experiment_1/checkpoints/feature_search_alexnet_models/net_number_4/alexnet-model.ckpt-200\n"
     ]
    },
    {
     "name": "stderr",
     "output_type": "stream",
     "text": [
      "predicting target present/absent for batch 140 of 141: 100%|██████████| 141/141 [00:06<00:00, 22.57it/s]\n"
     ]
    },
    {
     "name": "stdout",
     "output_type": "stream",
     "text": [
      "measuring accuracy on test set for alexnet model trained for 400 epochs\n",
      "Loading model from ../../data/experiment_1/checkpoints/feature_search_alexnet_models/net_number_0\n",
      "INFO:tensorflow:Restoring parameters from ../../data/experiment_1/checkpoints/feature_search_alexnet_models/net_number_0/alexnet-model.ckpt-400\n"
     ]
    },
    {
     "name": "stderr",
     "output_type": "stream",
     "text": [
      "predicting target present/absent for batch 140 of 141: 100%|██████████| 141/141 [00:06<00:00, 23.05it/s]\n"
     ]
    },
    {
     "name": "stdout",
     "output_type": "stream",
     "text": [
      "Loading model from ../../data/experiment_1/checkpoints/feature_search_alexnet_models/net_number_1\n",
      "INFO:tensorflow:Restoring parameters from ../../data/experiment_1/checkpoints/feature_search_alexnet_models/net_number_1/alexnet-model.ckpt-400\n"
     ]
    },
    {
     "name": "stderr",
     "output_type": "stream",
     "text": [
      "predicting target present/absent for batch 140 of 141: 100%|██████████| 141/141 [00:06<00:00, 22.67it/s]\n"
     ]
    },
    {
     "name": "stdout",
     "output_type": "stream",
     "text": [
      "Loading model from ../../data/experiment_1/checkpoints/feature_search_alexnet_models/net_number_2\n",
      "INFO:tensorflow:Restoring parameters from ../../data/experiment_1/checkpoints/feature_search_alexnet_models/net_number_2/alexnet-model.ckpt-400\n"
     ]
    },
    {
     "name": "stderr",
     "output_type": "stream",
     "text": [
      "predicting target present/absent for batch 140 of 141: 100%|██████████| 141/141 [00:06<00:00, 22.97it/s]\n"
     ]
    },
    {
     "name": "stdout",
     "output_type": "stream",
     "text": [
      "Loading model from ../../data/experiment_1/checkpoints/feature_search_alexnet_models/net_number_3\n",
      "INFO:tensorflow:Restoring parameters from ../../data/experiment_1/checkpoints/feature_search_alexnet_models/net_number_3/alexnet-model.ckpt-400\n"
     ]
    },
    {
     "name": "stderr",
     "output_type": "stream",
     "text": [
      "predicting target present/absent for batch 140 of 141: 100%|██████████| 141/141 [00:06<00:00, 22.97it/s]\n"
     ]
    },
    {
     "name": "stdout",
     "output_type": "stream",
     "text": [
      "Loading model from ../../data/experiment_1/checkpoints/feature_search_alexnet_models/net_number_4\n",
      "INFO:tensorflow:Restoring parameters from ../../data/experiment_1/checkpoints/feature_search_alexnet_models/net_number_4/alexnet-model.ckpt-400\n"
     ]
    },
    {
     "name": "stderr",
     "output_type": "stream",
     "text": [
      "predicting target present/absent for batch 140 of 141: 100%|██████████| 141/141 [00:06<00:00, 22.43it/s]\n"
     ]
    },
    {
     "name": "stdout",
     "output_type": "stream",
     "text": [
      "measuring accuracy on test set for alexnet model trained for 800 epochs\n",
      "Loading model from ../../data/experiment_1/checkpoints/feature_search_alexnet_models/net_number_0\n",
      "INFO:tensorflow:Restoring parameters from ../../data/experiment_1/checkpoints/feature_search_alexnet_models/net_number_0/alexnet-model.ckpt-800\n"
     ]
    },
    {
     "name": "stderr",
     "output_type": "stream",
     "text": [
      "predicting target present/absent for batch 140 of 141: 100%|██████████| 141/141 [00:06<00:00, 22.25it/s]\n"
     ]
    },
    {
     "name": "stdout",
     "output_type": "stream",
     "text": [
      "Loading model from ../../data/experiment_1/checkpoints/feature_search_alexnet_models/net_number_1\n",
      "INFO:tensorflow:Restoring parameters from ../../data/experiment_1/checkpoints/feature_search_alexnet_models/net_number_1/alexnet-model.ckpt-800\n"
     ]
    },
    {
     "name": "stderr",
     "output_type": "stream",
     "text": [
      "predicting target present/absent for batch 140 of 141: 100%|██████████| 141/141 [00:06<00:00, 22.48it/s]\n"
     ]
    },
    {
     "name": "stdout",
     "output_type": "stream",
     "text": [
      "Loading model from ../../data/experiment_1/checkpoints/feature_search_alexnet_models/net_number_2\n",
      "INFO:tensorflow:Restoring parameters from ../../data/experiment_1/checkpoints/feature_search_alexnet_models/net_number_2/alexnet-model.ckpt-800\n"
     ]
    },
    {
     "name": "stderr",
     "output_type": "stream",
     "text": [
      "predicting target present/absent for batch 140 of 141: 100%|██████████| 141/141 [00:06<00:00, 22.26it/s]\n"
     ]
    },
    {
     "name": "stdout",
     "output_type": "stream",
     "text": [
      "Loading model from ../../data/experiment_1/checkpoints/feature_search_alexnet_models/net_number_3\n",
      "INFO:tensorflow:Restoring parameters from ../../data/experiment_1/checkpoints/feature_search_alexnet_models/net_number_3/alexnet-model.ckpt-800\n"
     ]
    },
    {
     "name": "stderr",
     "output_type": "stream",
     "text": [
      "predicting target present/absent for batch 140 of 141: 100%|██████████| 141/141 [00:06<00:00, 23.24it/s]\n"
     ]
    },
    {
     "name": "stdout",
     "output_type": "stream",
     "text": [
      "Loading model from ../../data/experiment_1/checkpoints/feature_search_alexnet_models/net_number_4\n",
      "INFO:tensorflow:Restoring parameters from ../../data/experiment_1/checkpoints/feature_search_alexnet_models/net_number_4/alexnet-model.ckpt-800\n"
     ]
    },
    {
     "name": "stderr",
     "output_type": "stream",
     "text": [
      "predicting target present/absent for batch 140 of 141: 100%|██████████| 141/141 [00:06<00:00, 22.69it/s]\n"
     ]
    },
    {
     "name": "stdout",
     "output_type": "stream",
     "text": [
      "measuring accuracy on test set for alexnet model trained for 10 epochs\n",
      "Loading model from ../../data/experiment_1/checkpoints/feature_search_alexnet_models/net_number_0\n",
      "INFO:tensorflow:Restoring parameters from ../../data/experiment_1/checkpoints/feature_search_alexnet_models/net_number_0/alexnet-model.ckpt-10\n"
     ]
    },
    {
     "name": "stderr",
     "output_type": "stream",
     "text": [
      "predicting target present/absent for batch 140 of 141: 100%|██████████| 141/141 [00:06<00:00, 23.45it/s]\n"
     ]
    },
    {
     "name": "stdout",
     "output_type": "stream",
     "text": [
      "Loading model from ../../data/experiment_1/checkpoints/feature_search_alexnet_models/net_number_1\n",
      "INFO:tensorflow:Restoring parameters from ../../data/experiment_1/checkpoints/feature_search_alexnet_models/net_number_1/alexnet-model.ckpt-10\n"
     ]
    },
    {
     "name": "stderr",
     "output_type": "stream",
     "text": [
      "predicting target present/absent for batch 140 of 141: 100%|██████████| 141/141 [00:06<00:00, 22.76it/s]\n"
     ]
    },
    {
     "name": "stdout",
     "output_type": "stream",
     "text": [
      "Loading model from ../../data/experiment_1/checkpoints/feature_search_alexnet_models/net_number_2\n",
      "INFO:tensorflow:Restoring parameters from ../../data/experiment_1/checkpoints/feature_search_alexnet_models/net_number_2/alexnet-model.ckpt-10\n"
     ]
    },
    {
     "name": "stderr",
     "output_type": "stream",
     "text": [
      "predicting target present/absent for batch 140 of 141: 100%|██████████| 141/141 [00:06<00:00, 22.98it/s]\n"
     ]
    },
    {
     "name": "stdout",
     "output_type": "stream",
     "text": [
      "Loading model from ../../data/experiment_1/checkpoints/feature_search_alexnet_models/net_number_3\n",
      "INFO:tensorflow:Restoring parameters from ../../data/experiment_1/checkpoints/feature_search_alexnet_models/net_number_3/alexnet-model.ckpt-10\n"
     ]
    },
    {
     "name": "stderr",
     "output_type": "stream",
     "text": [
      "predicting target present/absent for batch 140 of 141: 100%|██████████| 141/141 [00:06<00:00, 22.81it/s]\n"
     ]
    },
    {
     "name": "stdout",
     "output_type": "stream",
     "text": [
      "Loading model from ../../data/experiment_1/checkpoints/feature_search_alexnet_models/net_number_4\n",
      "INFO:tensorflow:Restoring parameters from ../../data/experiment_1/checkpoints/feature_search_alexnet_models/net_number_4/alexnet-model.ckpt-10\n"
     ]
    },
    {
     "name": "stderr",
     "output_type": "stream",
     "text": [
      "predicting target present/absent for batch 140 of 141: 100%|██████████| 141/141 [00:06<00:00, 22.35it/s]\n"
     ]
    },
    {
     "name": "stdout",
     "output_type": "stream",
     "text": [
      "measuring accuracy on test set for alexnet model trained for 50 epochs\n",
      "Loading model from ../../data/experiment_1/checkpoints/feature_search_alexnet_models/net_number_0\n",
      "INFO:tensorflow:Restoring parameters from ../../data/experiment_1/checkpoints/feature_search_alexnet_models/net_number_0/alexnet-model.ckpt-50\n"
     ]
    },
    {
     "name": "stderr",
     "output_type": "stream",
     "text": [
      "predicting target present/absent for batch 140 of 141: 100%|██████████| 141/141 [00:06<00:00, 22.72it/s]\n"
     ]
    },
    {
     "name": "stdout",
     "output_type": "stream",
     "text": [
      "Loading model from ../../data/experiment_1/checkpoints/feature_search_alexnet_models/net_number_1\n",
      "INFO:tensorflow:Restoring parameters from ../../data/experiment_1/checkpoints/feature_search_alexnet_models/net_number_1/alexnet-model.ckpt-50\n"
     ]
    },
    {
     "name": "stderr",
     "output_type": "stream",
     "text": [
      "predicting target present/absent for batch 140 of 141: 100%|██████████| 141/141 [00:06<00:00, 22.40it/s]\n"
     ]
    },
    {
     "name": "stdout",
     "output_type": "stream",
     "text": [
      "Loading model from ../../data/experiment_1/checkpoints/feature_search_alexnet_models/net_number_2\n",
      "INFO:tensorflow:Restoring parameters from ../../data/experiment_1/checkpoints/feature_search_alexnet_models/net_number_2/alexnet-model.ckpt-50\n"
     ]
    },
    {
     "name": "stderr",
     "output_type": "stream",
     "text": [
      "predicting target present/absent for batch 140 of 141: 100%|██████████| 141/141 [00:06<00:00, 22.91it/s]\n"
     ]
    },
    {
     "name": "stdout",
     "output_type": "stream",
     "text": [
      "Loading model from ../../data/experiment_1/checkpoints/feature_search_alexnet_models/net_number_3\n",
      "INFO:tensorflow:Restoring parameters from ../../data/experiment_1/checkpoints/feature_search_alexnet_models/net_number_3/alexnet-model.ckpt-50\n"
     ]
    },
    {
     "name": "stderr",
     "output_type": "stream",
     "text": [
      "predicting target present/absent for batch 140 of 141: 100%|██████████| 141/141 [00:06<00:00, 22.79it/s]\n"
     ]
    },
    {
     "name": "stdout",
     "output_type": "stream",
     "text": [
      "Loading model from ../../data/experiment_1/checkpoints/feature_search_alexnet_models/net_number_4\n",
      "INFO:tensorflow:Restoring parameters from ../../data/experiment_1/checkpoints/feature_search_alexnet_models/net_number_4/alexnet-model.ckpt-50\n"
     ]
    },
    {
     "name": "stderr",
     "output_type": "stream",
     "text": [
      "predicting target present/absent for batch 140 of 141: 100%|██████████| 141/141 [00:06<00:00, 22.84it/s]\n"
     ]
    },
    {
     "name": "stdout",
     "output_type": "stream",
     "text": [
      "measuring accuracy on test set for alexnet model trained for 200 epochs\n",
      "Loading model from ../../data/experiment_1/checkpoints/feature_search_alexnet_models/net_number_0\n",
      "INFO:tensorflow:Restoring parameters from ../../data/experiment_1/checkpoints/feature_search_alexnet_models/net_number_0/alexnet-model.ckpt-200\n"
     ]
    },
    {
     "name": "stderr",
     "output_type": "stream",
     "text": [
      "predicting target present/absent for batch 140 of 141: 100%|██████████| 141/141 [00:06<00:00, 22.99it/s]\n"
     ]
    },
    {
     "name": "stdout",
     "output_type": "stream",
     "text": [
      "Loading model from ../../data/experiment_1/checkpoints/feature_search_alexnet_models/net_number_1\n",
      "INFO:tensorflow:Restoring parameters from ../../data/experiment_1/checkpoints/feature_search_alexnet_models/net_number_1/alexnet-model.ckpt-200\n"
     ]
    },
    {
     "name": "stderr",
     "output_type": "stream",
     "text": [
      "predicting target present/absent for batch 140 of 141: 100%|██████████| 141/141 [00:06<00:00, 22.64it/s]\n"
     ]
    },
    {
     "name": "stdout",
     "output_type": "stream",
     "text": [
      "Loading model from ../../data/experiment_1/checkpoints/feature_search_alexnet_models/net_number_2\n",
      "INFO:tensorflow:Restoring parameters from ../../data/experiment_1/checkpoints/feature_search_alexnet_models/net_number_2/alexnet-model.ckpt-200\n"
     ]
    },
    {
     "name": "stderr",
     "output_type": "stream",
     "text": [
      "predicting target present/absent for batch 140 of 141: 100%|██████████| 141/141 [00:06<00:00, 22.43it/s]\n"
     ]
    },
    {
     "name": "stdout",
     "output_type": "stream",
     "text": [
      "Loading model from ../../data/experiment_1/checkpoints/feature_search_alexnet_models/net_number_3\n",
      "INFO:tensorflow:Restoring parameters from ../../data/experiment_1/checkpoints/feature_search_alexnet_models/net_number_3/alexnet-model.ckpt-200\n"
     ]
    },
    {
     "name": "stderr",
     "output_type": "stream",
     "text": [
      "predicting target present/absent for batch 140 of 141: 100%|██████████| 141/141 [00:06<00:00, 22.53it/s]\n"
     ]
    },
    {
     "name": "stdout",
     "output_type": "stream",
     "text": [
      "Loading model from ../../data/experiment_1/checkpoints/feature_search_alexnet_models/net_number_4\n",
      "INFO:tensorflow:Restoring parameters from ../../data/experiment_1/checkpoints/feature_search_alexnet_models/net_number_4/alexnet-model.ckpt-200\n"
     ]
    },
    {
     "name": "stderr",
     "output_type": "stream",
     "text": [
      "predicting target present/absent for batch 140 of 141: 100%|██████████| 141/141 [00:06<00:00, 22.79it/s]\n"
     ]
    },
    {
     "name": "stdout",
     "output_type": "stream",
     "text": [
      "measuring accuracy on test set for alexnet model trained for 400 epochs\n",
      "Loading model from ../../data/experiment_1/checkpoints/feature_search_alexnet_models/net_number_0\n",
      "INFO:tensorflow:Restoring parameters from ../../data/experiment_1/checkpoints/feature_search_alexnet_models/net_number_0/alexnet-model.ckpt-400\n"
     ]
    },
    {
     "name": "stderr",
     "output_type": "stream",
     "text": [
      "predicting target present/absent for batch 140 of 141: 100%|██████████| 141/141 [00:06<00:00, 21.98it/s]\n"
     ]
    },
    {
     "name": "stdout",
     "output_type": "stream",
     "text": [
      "Loading model from ../../data/experiment_1/checkpoints/feature_search_alexnet_models/net_number_1\n",
      "INFO:tensorflow:Restoring parameters from ../../data/experiment_1/checkpoints/feature_search_alexnet_models/net_number_1/alexnet-model.ckpt-400\n"
     ]
    },
    {
     "name": "stderr",
     "output_type": "stream",
     "text": [
      "predicting target present/absent for batch 140 of 141: 100%|██████████| 141/141 [00:06<00:00, 22.11it/s]\n"
     ]
    },
    {
     "name": "stdout",
     "output_type": "stream",
     "text": [
      "Loading model from ../../data/experiment_1/checkpoints/feature_search_alexnet_models/net_number_2\n",
      "INFO:tensorflow:Restoring parameters from ../../data/experiment_1/checkpoints/feature_search_alexnet_models/net_number_2/alexnet-model.ckpt-400\n"
     ]
    },
    {
     "name": "stderr",
     "output_type": "stream",
     "text": [
      "predicting target present/absent for batch 140 of 141: 100%|██████████| 141/141 [00:06<00:00, 22.15it/s]\n"
     ]
    },
    {
     "name": "stdout",
     "output_type": "stream",
     "text": [
      "Loading model from ../../data/experiment_1/checkpoints/feature_search_alexnet_models/net_number_3\n",
      "INFO:tensorflow:Restoring parameters from ../../data/experiment_1/checkpoints/feature_search_alexnet_models/net_number_3/alexnet-model.ckpt-400\n"
     ]
    },
    {
     "name": "stderr",
     "output_type": "stream",
     "text": [
      "predicting target present/absent for batch 140 of 141: 100%|██████████| 141/141 [00:06<00:00, 21.75it/s]\n"
     ]
    },
    {
     "name": "stdout",
     "output_type": "stream",
     "text": [
      "Loading model from ../../data/experiment_1/checkpoints/feature_search_alexnet_models/net_number_4\n",
      "INFO:tensorflow:Restoring parameters from ../../data/experiment_1/checkpoints/feature_search_alexnet_models/net_number_4/alexnet-model.ckpt-400\n"
     ]
    },
    {
     "name": "stderr",
     "output_type": "stream",
     "text": [
      "predicting target present/absent for batch 140 of 141: 100%|██████████| 141/141 [00:06<00:00, 21.74it/s]\n"
     ]
    },
    {
     "name": "stdout",
     "output_type": "stream",
     "text": [
      "measuring accuracy on test set for alexnet model trained for 800 epochs\n",
      "Loading model from ../../data/experiment_1/checkpoints/feature_search_alexnet_models/net_number_0\n",
      "INFO:tensorflow:Restoring parameters from ../../data/experiment_1/checkpoints/feature_search_alexnet_models/net_number_0/alexnet-model.ckpt-800\n"
     ]
    },
    {
     "name": "stderr",
     "output_type": "stream",
     "text": [
      "predicting target present/absent for batch 140 of 141: 100%|██████████| 141/141 [00:06<00:00, 22.31it/s]\n"
     ]
    },
    {
     "name": "stdout",
     "output_type": "stream",
     "text": [
      "Loading model from ../../data/experiment_1/checkpoints/feature_search_alexnet_models/net_number_1\n",
      "INFO:tensorflow:Restoring parameters from ../../data/experiment_1/checkpoints/feature_search_alexnet_models/net_number_1/alexnet-model.ckpt-800\n"
     ]
    },
    {
     "name": "stderr",
     "output_type": "stream",
     "text": [
      "predicting target present/absent for batch 140 of 141: 100%|██████████| 141/141 [00:06<00:00, 22.52it/s]\n"
     ]
    },
    {
     "name": "stdout",
     "output_type": "stream",
     "text": [
      "Loading model from ../../data/experiment_1/checkpoints/feature_search_alexnet_models/net_number_2\n",
      "INFO:tensorflow:Restoring parameters from ../../data/experiment_1/checkpoints/feature_search_alexnet_models/net_number_2/alexnet-model.ckpt-800\n"
     ]
    },
    {
     "name": "stderr",
     "output_type": "stream",
     "text": [
      "predicting target present/absent for batch 140 of 141: 100%|██████████| 141/141 [00:06<00:00, 22.10it/s]\n"
     ]
    },
    {
     "name": "stdout",
     "output_type": "stream",
     "text": [
      "Loading model from ../../data/experiment_1/checkpoints/feature_search_alexnet_models/net_number_3\n",
      "INFO:tensorflow:Restoring parameters from ../../data/experiment_1/checkpoints/feature_search_alexnet_models/net_number_3/alexnet-model.ckpt-800\n"
     ]
    },
    {
     "name": "stderr",
     "output_type": "stream",
     "text": [
      "predicting target present/absent for batch 140 of 141: 100%|██████████| 141/141 [00:06<00:00, 22.40it/s]\n"
     ]
    },
    {
     "name": "stdout",
     "output_type": "stream",
     "text": [
      "Loading model from ../../data/experiment_1/checkpoints/feature_search_alexnet_models/net_number_4\n",
      "INFO:tensorflow:Restoring parameters from ../../data/experiment_1/checkpoints/feature_search_alexnet_models/net_number_4/alexnet-model.ckpt-800\n"
     ]
    },
    {
     "name": "stderr",
     "output_type": "stream",
     "text": [
      "predicting target present/absent for batch 140 of 141: 100%|██████████| 141/141 [00:06<00:00, 22.69it/s]\n"
     ]
    }
   ],
   "source": [
    "for num in [51, 102, 153, 204]:\n",
    "    config['DATA']['TRAIN_DIR'] = f'../../data/experiment_1/visual_search_stimuli/searchstims_feature_{num}_alexnet'\n",
    "    config['DATA']['GZ_FILENAME'] = f'../../data/experiment_1/data_prepd_for_nets/feature_search_{num}_alexnet_data.gz'\n",
    "    config['DATA']['TRAIN_SIZE'] = '400'\n",
    "    config['DATA']['VALIDATION_SIZE'] = '200'\n",
    "    config['TRAIN']['MODEL_SAVE_PATH'] = '../../data/experiment_1/checkpoints/feature_search_alexnet_models/'\n",
    "    config['TEST']['TEST_RESULTS_SAVE_PATH'] = f'../../data/experiment_1/results/feature_search_{num}_alexnet_models/'\n",
    "    searchnets.test.test(config)"
   ]
  },
  {
   "cell_type": "markdown",
   "metadata": {},
   "source": [
    "munging"
   ]
  },
  {
   "cell_type": "code",
   "execution_count": 26,
   "metadata": {},
   "outputs": [],
   "source": [
    "import joblib\n",
    "acc_by_epoch = {}\n",
    "\n",
    "epoch_list = [10, 50, 200, 400, 800]\n",
    "for epochs in epoch_list:\n",
    "    acc_by_diff = {}\n",
    "    for num in [0, 51, 102, 153, 204]:       \n",
    "        if num == 0:\n",
    "            test_results_save_path = f'../../data/experiment_1/results/feature_search_alexnet_models/test_alexnet_trained_{epochs}_epochs.gz'\n",
    "        else:    \n",
    "            test_results_save_path = f'../../data/experiment_1/results/feature_search_{num}_alexnet_models/test_alexnet_trained_{epochs}_epochs.gz'\n",
    "\n",
    "        test_results = joblib.load(test_results_save_path)\n",
    "        acc_by_diff[num]= test_results['acc_per_set_size_per_model']\n",
    "    acc_by_epoch[epochs] = acc_by_diff\n",
    "\n",
    "set_sizes = [1,2,4,8]\n",
    "discrim_nums = [204, 153, 102, 51, 0]  # from least to most discriminable\n",
    "subjects_by_epochs = {}\n",
    "num_subjects = 5  # each trained neural net is a 'subject' in our psychophys experiment; what we called a \"replicate\" when repeating training before\n",
    "\n",
    "for epochs in epoch_list:\n",
    "    subjects = {}\n",
    "    for subject_ind in range(num_subjects):\n",
    "        acc_by_discrim_by_set_size = {set_size:[] for set_size in set_sizes}\n",
    "        for set_size_ind, set_size in enumerate(set_sizes):\n",
    "            for num in discrim_nums:\n",
    "                acc_arr = acc_by_epoch[epochs][num]\n",
    "                this_acc = acc_arr[subject_ind, set_size_ind]\n",
    "                acc_by_discrim_by_set_size[set_size].append(this_acc)\n",
    "        subjects[subject_ind] = acc_by_discrim_by_set_size\n",
    "    subjects_by_epochs[epochs] = subjects"
   ]
  },
  {
   "cell_type": "markdown",
   "metadata": {},
   "source": [
    "fit a psychometric function"
   ]
  },
  {
   "cell_type": "code",
   "execution_count": 65,
   "metadata": {},
   "outputs": [],
   "source": [
    "from collections import namedtuple\n",
    "\n",
    "import numpy as np\n",
    "import scipy\n",
    "from scipy.optimize import curve_fit\n",
    "\n",
    "FitParams = namedtuple('FitParams', ['params', 'mcov'])\n",
    "\n",
    "discrim_pct = (255 - np.asarray(discrim_nums)) / 255\n",
    "\n",
    "def pf(x, alpha, beta):\n",
    "    \"\"\"psychometric function\"\"\"\n",
    "    return 1. / (1 + np.exp(-(x - alpha) / beta))"
   ]
  },
  {
   "cell_type": "code",
   "execution_count": 57,
   "metadata": {},
   "outputs": [],
   "source": [
    "fits_by_subject_by_epoch = {}\n",
    "par0 = np.asarray([0., 1.])  # use some good starting values, reasonable default is [0., 1.]\n",
    "\n",
    "for epochs in epoch_list:\n",
    "    subjects = {}\n",
    "    for subject_ind in range(num_subjects):\n",
    "        fits_by_set_size = {}\n",
    "        for set_size_ind, set_size in enumerate(set_sizes):\n",
    "            p2 = subjects_by_epochs[epochs][subject_ind][set_size]\n",
    "            par, mcov = curve_fit(pf, discrim_pct, p2, par0)\n",
    "            fit_params = FitParams(par, mcov)\n",
    "            fits_by_set_size[set_size] = fit_params\n",
    "        subjects[subject_ind] = fits_by_set_size\n",
    "    fits_by_subject_by_epoch[epochs] = subjects"
   ]
  },
  {
   "cell_type": "markdown",
   "metadata": {},
   "source": [
    "Do a sanity check; what do the fits look like?"
   ]
  },
  {
   "cell_type": "code",
   "execution_count": 83,
   "metadata": {},
   "outputs": [
    {
     "data": {
      "image/png": "[encoded data removed]",
      "text/plain": [
       "<Figure size 720x720 with 4 Axes>"
      ]
     },
     "metadata": {
      "needs_background": "light"
     },
     "output_type": "display_data"
    }
   ],
   "source": [
    "import matplotlib.pyplot as plt\n",
    "%matplotlib inline\n",
    "\n",
    "epoch_for_plot = 800\n",
    "subject_for_plot = 1\n",
    "d_range = np.linspace(0,1,1000)\n",
    "\n",
    "fig, ax = plt.subplots(2, 2)\n",
    "fig.set_size_inches(10,10)\n",
    "ax = ax.ravel()\n",
    "for set_size_ind, set_size in enumerate(set_sizes):\n",
    "    for subject_ind in range(num_subjects):\n",
    "        p2 = subjects_by_epochs[epoch_for_plot][subject_ind][set_size]\n",
    "        ax[set_size_ind].plot(discrim_pct, p2, marker='o', linestyle='None')\n",
    "        params = fits_by_subject_by_epoch[epoch_for_plot][subject_ind][set_size].params\n",
    "        ax[set_size_ind].plot(d_range, pf(d_range, params[0], params[1]))\n",
    "        ax[set_size_ind].set_title(f\"set size: {set_size}\")\n",
    "\n",
    "fig.tight_layout()"
   ]
  },
  {
   "cell_type": "code",
   "execution_count": 88,
   "metadata": {},
   "outputs": [
    {
     "name": "stderr",
     "output_type": "stream",
     "text": [
      "/home/bart/anaconda3/envs/searchnets/lib/python3.6/site-packages/ipykernel_launcher.py:22: RuntimeWarning: divide by zero encountered in log\n"
     ]
    }
   ],
   "source": [
    "TH = 0.75  # we want to look for set size effects at a constant difference threshold\n",
    "\n",
    "diff_ths = {}  # difference thresholds\n",
    "for epochs in epoch_list:\n",
    "    subjects = {}\n",
    "    for subject_ind in range(num_subjects):\n",
    "        diff_th_by_set_size = []\n",
    "        for set_size_ind, set_size in enumerate(set_sizes):\n",
    "            params = fits_by_subject_by_epoch[epochs][subject_ind][set_size].params\n",
    "            y = pf(d_range, params[0], params[1])\n",
    "            th_ind = np.argmin(np.abs(y - TH))  # where (on x-axis) did subject have 75% accuracy for this set size?\n",
    "            diff_th_by_set_size.append(d_range[th_ind])\n",
    "        subjects[subject_ind] = diff_th_by_set_size\n",
    "    diff_ths[epochs] = subjects\n",
    "\n",
    "diff_ths_log = {}  # difference thresholds\n",
    "for epochs in epoch_list:\n",
    "    subjects = {}\n",
    "    for subject_ind in range(num_subjects):\n",
    "        diff_th_log_by_set_size = []\n",
    "        for set_size_ind, set_size in enumerate(set_sizes):\n",
    "            diff_th_log_by_set_size.append(np.log(diff_ths[epochs][subject_ind][set_size_ind]))\n",
    "        subjects[subject_ind] = diff_th_log_by_set_size\n",
    "    diff_ths_log[epochs] = subjects"
   ]
  },
  {
   "cell_type": "code",
   "execution_count": 86,
   "metadata": {},
   "outputs": [
    {
     "data": {
      "image/png": "[encoded data removed]",
      "text/plain": [
       "<Figure size 432x288 with 1 Axes>"
      ]
     },
     "metadata": {
      "needs_background": "light"
     },
     "output_type": "display_data"
    }
   ],
   "source": [
    "epoch_for_plot = 800\n",
    "\n",
    "fig, ax = plt.subplots()\n",
    "subjects_for_plot = diff_ths[epochs]\n",
    "for subject_ind in range(num_subjects):\n",
    "    ax.loglog(set_sizes, subjects_for_plot[subject_ind], color='grey', linestyle='--')"
   ]
  },
  {
   "cell_type": "code",
   "execution_count": 103,
   "metadata": {},
   "outputs": [],
   "source": [
    "log_set_size = np.log(set_sizes)\n",
    "from scipy import stats\n",
    "\n",
    "mn_diff_ths_epochs = {}\n",
    "linregress_epochs = {}\n",
    "for epochs in epoch_list:\n",
    "    diff_ths_log_this_epoch = []\n",
    "    for subject_ind in range(num_subjects):\n",
    "        diff_ths_log_this_epoch.append(diff_ths_log[epochs][subject_ind])\n",
    "    mn_diff_ths_epochs[epochs] = np.asarray(diff_ths_log_this_epoch).mean(axis=0)\n",
    "    linregress_epochs[epochs] = stats.linregress(log_set_size, mn_diff_ths_epochs[epochs])"
   ]
  },
  {
   "cell_type": "code",
   "execution_count": 104,
   "metadata": {},
   "outputs": [
    {
     "data": {
      "text/plain": [
       "{10: array([-1.48451227, -0.96780571, -0.48155254, -0.12041001]),\n",
       " 50: array([-1.46959202, -1.27548533, -1.177977  , -0.95876582]),\n",
       " 200: array([-1.49325645, -1.28014404, -1.15734329,        -inf]),\n",
       " 400: array([-1.51840266, -1.28904971, -1.16740552,        -inf]),\n",
       " 800: array([-1.51301729, -1.28295776, -1.11799002, -1.12743968])}"
      ]
     },
     "execution_count": 104,
     "metadata": {},
     "output_type": "execute_result"
    }
   ],
   "source": []
  },
  {
   "cell_type": "code",
   "execution_count": null,
   "metadata": {},
   "outputs": [],
   "source": []
  }
 ],
 "metadata": {
  "kernelspec": {
   "display_name": "Python 3",
   "language": "python",
   "name": "python3"
  },
  "language_info": {
   "codemirror_mode": {
    "name": "ipython",
    "version": 3
   },
   "file_extension": ".py",
   "mimetype": "text/x-python",
   "name": "python",
   "nbconvert_exporter": "python",
   "pygments_lexer": "ipython3",
   "version": "3.6.8"
  }
 },
 "nbformat": 4,
 "nbformat_minor": 2
}

{
 "cells": [
  {
   "cell_type": "code",
   "execution_count": 1,
   "metadata": {},
   "outputs": [
    {
     "name": "stdout",
     "output_type": "stream",
     "text": [
      "/home/bart/Documents/repos/L2M/visual-search-nets/data/experiment_1\n"
     ]
    }
   ],
   "source": [
    "cd ../../data/experiment_1/"
   ]
  },
  {
   "cell_type": "code",
   "execution_count": 2,
   "metadata": {},
   "outputs": [
    {
     "name": "stdout",
     "output_type": "stream",
     "text": [
      "\u001b[0m\u001b[01;34mcheckpoints\u001b[0m/  \u001b[01;34mdata_prepd_for_nets\u001b[0m/  runall.sh\n",
      "\u001b[01;34mconfigs\u001b[0m/      \u001b[01;34mresults\u001b[0m/              \u001b[01;34mvisual_search_stimuli\u001b[0m/\n"
     ]
    }
   ],
   "source": [
    "ls"
   ]
  },
  {
   "cell_type": "code",
   "execution_count": 3,
   "metadata": {},
   "outputs": [
    {
     "name": "stdout",
     "output_type": "stream",
     "text": [
      "/home/bart/Documents/repos/L2M/visual-search-nets/data/experiment_1/checkpoints\n"
     ]
    }
   ],
   "source": [
    "cd checkpoints"
   ]
  },
  {
   "cell_type": "code",
   "execution_count": 6,
   "metadata": {},
   "outputs": [
    {
     "name": "stdout",
     "output_type": "stream",
     "text": [
      "\u001b[0m\u001b[01;34mfeature_search_alexnet_models\u001b[0m/  \u001b[01;34mspatial_config_search_alexnet_models\u001b[0m/\n",
      "\u001b[01;34mfeature_search_vgg16_models\u001b[0m/    \u001b[01;34mspatial_config_search_vgg16_models\u001b[0m/\n"
     ]
    }
   ],
   "source": [
    "ls"
   ]
  },
  {
   "cell_type": "code",
   "execution_count": 9,
   "metadata": {},
   "outputs": [],
   "source": [
    "import os\n",
    "\n",
    "checkpoint_dirs = os.listdir()\n",
    "checkpoints_root = os.getcwd()"
   ]
  },
  {
   "cell_type": "code",
   "execution_count": 11,
   "metadata": {},
   "outputs": [],
   "source": [
    "from glob import glob"
   ]
  },
  {
   "cell_type": "code",
   "execution_count": 18,
   "metadata": {},
   "outputs": [],
   "source": [
    "epochs_list = [10, 50, 200, 400, 800]\n",
    "for checkpoint_dir in checkpoint_dirs:\n",
    "    for epochs in epochs_list:\n",
    "        new_dir = os.path.join(checkpoints_root, checkpoint_dir, f'trained_{epochs}_epochs')\n",
    "        os.makedirs(new_dir, exist_ok=True)\n",
    "        for netnum in range(5):\n",
    "            new_netnum_dir = os.path.join(new_dir, f'net_number_{netnum}')\n",
    "            os.makedirs(new_netnum_dir, exist_ok=True)\n",
    "            if 'alexnet' in checkpoint_dir:\n",
    "                to_move = glob(os.path.join(checkpoints_root, checkpoint_dir, f'net_number_{netnum}', f'alexnet*ckpt*{epochs}*'))\n",
    "                # assert len(to_move) == 3, \"didn't find 3 checkpoint files\"\n",
    "                for fname in to_move:\n",
    "                    os.rename(fname, os.path.join(new_netnum_dir, os.path.basename(fname)))\n",
    "                to_move = glob(os.path.join(checkpoints_root, checkpoint_dir, f'net_number_{netnum}', 'checkpoint'))\n",
    "                for fname in to_move:\n",
    "                    os.rename(fname, os.path.join(new_netnum_dir, os.path.basename(fname)))\n",
    "            elif 'vgg16' in checkpoint_dir:\n",
    "                to_move = glob(os.path.join(checkpoints_root, checkpoint_dir, f'net_number_{netnum}', f'VGG16*ckpt*{epochs}*'))\n",
    "                # assert len(to_move) == 3, \"didn't find 3 checkpoint files\"\n",
    "                for fname in to_move:\n",
    "                    os.rename(fname, os.path.join(new_netnum_dir, os.path.basename(fname)))                \n",
    "                to_move = glob(os.path.join(checkpoints_root, checkpoint_dir, f'net_number_{netnum}', 'checkpoint'))\n",
    "                for fname in to_move:\n",
    "                    os.rename(fname, os.path.join(new_netnum_dir, os.path.basename(fname)))"
   ]
  },
  {
   "cell_type": "code",
   "execution_count": 13,
   "metadata": {},
   "outputs": [
    {
     "data": {
      "text/plain": [
       "[]"
      ]
     },
     "execution_count": 13,
     "metadata": {},
     "output_type": "execute_result"
    }
   ],
   "source": [
    "to_move"
   ]
  },
  {
   "cell_type": "code",
   "execution_count": 14,
   "metadata": {},
   "outputs": [
    {
     "data": {
      "text/plain": [
       "'/home/bart/Documents/repos/L2M/visual-search-nets/data/experiment_1/checkpoints/spatial_config_search_alexnet_models/net_number_0'"
      ]
     },
     "execution_count": 14,
     "metadata": {},
     "output_type": "execute_result"
    }
   ],
   "source": [
    "os.path.join(checkpoints_root, checkpoint_dir, f'net_number_{netnum}')"
   ]
  },
  {
   "cell_type": "code",
   "execution_count": 21,
   "metadata": {},
   "outputs": [],
   "source": [
    "from searchnets.utils.general import make_targz\n",
    "\n",
    "epochs_list = [10, 50, 200, 400, 800]\n",
    "for checkpoint_dir in checkpoint_dirs:\n",
    "    for epochs in epochs_list:\n",
    "        source_dir = os.path.join(checkpoints_root, checkpoint_dir, f'trained_{epochs}_epochs')\n",
    "        output_name = os.path.join(checkpoints_root, checkpoint_dir + f'_trained_{epochs}_epochs.tar.gz')\n",
    "        make_targz(output_filename=output_name, source_dir=source_dir)"
   ]
  },
  {
   "cell_type": "code",
   "execution_count": null,
   "metadata": {},
   "outputs": [],
   "source": []
  }
 ],
 "metadata": {
  "kernelspec": {
   "display_name": "Python 3",
   "language": "python",
   "name": "python3"
  },
  "language_info": {
   "codemirror_mode": {
    "name": "ipython",
    "version": 3
   },
   "file_extension": ".py",
   "mimetype": "text/x-python",
   "name": "python",
   "nbconvert_exporter": "python",
   "pygments_lexer": "ipython3",
   "version": "3.6.8"
  }
 },
 "nbformat": 4,
 "nbformat_minor": 2
}

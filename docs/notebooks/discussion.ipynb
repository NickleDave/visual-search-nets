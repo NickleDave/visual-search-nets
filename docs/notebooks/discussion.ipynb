{
 "cells": [
  {
   "cell_type": "markdown",
   "metadata": {},
   "source": [
    "## Discussion\n",
    "* We see similar accuracy in convolutional neural networks and humans because CNNs as a model capture some important aspect of human cognition\n",
    "* We see similar accuracy in convolutional neural networks and humans, not because they share \n",
    "\n",
    "the findings of Poder 2017 <https://arxiv.org/pdf/1707.09775.pdf> and extends them by showing they do not depend on training, and that the findings hold when using other \"classic\" visual search stimuli (such as those used here http://search.bwh.harvard.edu/new/data_set_files.html which are reproduced by that was used to get the results here)"
   ]
  },
  {
   "cell_type": "code",
   "execution_count": null,
   "metadata": {},
   "outputs": [],
   "source": []
  }
 ],
 "metadata": {
  "kernelspec": {
   "display_name": "Python 3",
   "language": "python",
   "name": "python3"
  },
  "language_info": {
   "codemirror_mode": {
    "name": "ipython",
    "version": 3
   },
   "file_extension": ".py",
   "mimetype": "text/x-python",
   "name": "python",
   "nbconvert_exporter": "python",
   "pygments_lexer": "ipython3",
   "version": "3.6.8"
  }
 },
 "nbformat": 4,
 "nbformat_minor": 2
}

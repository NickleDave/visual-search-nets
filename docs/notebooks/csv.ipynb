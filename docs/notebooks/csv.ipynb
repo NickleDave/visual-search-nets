{
 "cells": [
  {
   "cell_type": "code",
   "execution_count": null,
   "metadata": {},
   "outputs": [],
   "source": [
    "import csv\n"
   ]
  },
  {
   "cell_type": "code",
   "execution_count": null,
   "metadata": {},
   "outputs": [],
   "source": [
    "def make_csv(eff_10, ineff_10, eff_400, ineff_400, set_sizes=[1,2,4,8], csv_fname='results.csv'):\n",
    "    header = [\"\", \"stim_type\", \"replicate\", \"set_size\", \"acc\"]\n",
    "    out = [header]\n",
    "    \n",
    "    id = 1\n",
    "\n",
    "    mats = [eff_10, ineff_10, eff_400, ineff_400]\n",
    "    epochs = [10, 10, 400, 400]\n",
    "    stim_type = ['eff', 'ineff', 'eff', 'ineff']\n",
    "    for mat, epoch, stim in zip(mats, epohcs, stim_type):\n",
    "        for replicate, mat_row in enumerate(mat):\n",
    "            for acc, set_size in zip(mat_row, set_sizes):\n",
    "                csv_row = [id, stim, replicate, set_size, acc]\n",
    "                out.append(csv_row)\n",
    "                id += 1\n",
    "\n",
    "    with open(csv_fname, 'w', newline='') as f:\n",
    "        writer = csv.writer(f)\n",
    "        writer.writerows(someiterable)\n"
   ]
  }
 ],
 "metadata": {
  "kernelspec": {
   "display_name": "Python 3",
   "language": "python",
   "name": "python3"
  },
  "language_info": {
   "codemirror_mode": {
    "name": "ipython",
    "version": 3
   },
   "file_extension": ".py",
   "mimetype": "text/x-python",
   "name": "python",
   "nbconvert_exporter": "python",
   "pygments_lexer": "ipython3",
   "version": "3.6.8"
  }
 },
 "nbformat": 4,
 "nbformat_minor": 2
}
